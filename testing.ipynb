{
 "metadata": {
  "language_info": {
   "codemirror_mode": {
    "name": "ipython",
    "version": 3
   },
   "file_extension": ".py",
   "mimetype": "text/x-python",
   "name": "python",
   "nbconvert_exporter": "python",
   "pygments_lexer": "ipython3",
   "version": "3.10.6-final"
  },
  "orig_nbformat": 2,
  "kernelspec": {
   "name": "python3",
   "display_name": "Python 3.10.6 64-bit",
   "metadata": {
    "interpreter": {
     "hash": "31f2aee4e71d21fbe5cf8b01ff0e069b9275f58929596ceb00d14d90e3e16cd6"
    }
   }
  }
 },
 "nbformat": 4,
 "nbformat_minor": 2,
 "cells": [
  {
   "cell_type": "code",
   "execution_count": 1,
   "metadata": {},
   "outputs": [],
   "source": [
    "import cv2"
   ]
  },
  {
   "cell_type": "code",
   "execution_count": 2,
   "metadata": {},
   "outputs": [],
   "source": [
    "imagePath = \"train/nevus/nev00001.jpg\"\n",
    "image = cv2.imread(imagePath)\n"
   ]
  },
  {
   "cell_type": "code",
   "execution_count": 11,
   "metadata": {},
   "outputs": [
    {
     "output_type": "error",
     "ename": "TypeError",
     "evalue": "unsupported operand type(s) for @: 'list' and 'list'",
     "traceback": [
      "\u001b[0;31m---------------------------------------------------------------------------\u001b[0m",
      "\u001b[0;31mTypeError\u001b[0m                                 Traceback (most recent call last)",
      "\u001b[0;32m/tmp/ipykernel_5121/3441209087.py\u001b[0m in \u001b[0;36m<module>\u001b[0;34m\u001b[0m\n\u001b[1;32m      1\u001b[0m \u001b[0mM\u001b[0m \u001b[0;34m=\u001b[0m \u001b[0;34m[\u001b[0m\u001b[0;34m[\u001b[0m\u001b[0;36m1\u001b[0m\u001b[0;34m,\u001b[0m\u001b[0;36m1\u001b[0m\u001b[0;34m]\u001b[0m\u001b[0;34m,\u001b[0m\u001b[0;34m[\u001b[0m\u001b[0;36m2\u001b[0m\u001b[0;34m,\u001b[0m\u001b[0;36m2\u001b[0m\u001b[0;34m]\u001b[0m\u001b[0;34m]\u001b[0m\u001b[0;34m\u001b[0m\u001b[0;34m\u001b[0m\u001b[0m\n\u001b[1;32m      2\u001b[0m \u001b[0mB\u001b[0m \u001b[0;34m=\u001b[0m \u001b[0;34m[\u001b[0m\u001b[0;34m[\u001b[0m\u001b[0;36m3\u001b[0m\u001b[0;34m,\u001b[0m\u001b[0;36m3\u001b[0m\u001b[0;34m]\u001b[0m\u001b[0;34m,\u001b[0m\u001b[0;34m[\u001b[0m\u001b[0;36m4\u001b[0m\u001b[0;34m,\u001b[0m\u001b[0;36m4\u001b[0m\u001b[0;34m]\u001b[0m\u001b[0;34m]\u001b[0m\u001b[0;34m\u001b[0m\u001b[0;34m\u001b[0m\u001b[0m\n\u001b[0;32m----> 3\u001b[0;31m \u001b[0mC\u001b[0m \u001b[0;34m=\u001b[0m \u001b[0mM\u001b[0m\u001b[0;34m@\u001b[0m\u001b[0mB\u001b[0m\u001b[0;34m\u001b[0m\u001b[0;34m\u001b[0m\u001b[0m\n\u001b[0m",
      "\u001b[0;31mTypeError\u001b[0m: unsupported operand type(s) for @: 'list' and 'list'"
     ]
    }
   ],
   "source": [
    "M = [[1,1],[2,2]]\n",
    "B = [[3,3],[4,4]]\n",
    "C = M@B"
   ]
  },
  {
   "cell_type": "code",
   "execution_count": 8,
   "metadata": {},
   "outputs": [
    {
     "output_type": "stream",
     "name": "stdout",
     "text": [
      "[2.70070e+04 4.91000e+03 0.00000e+00 0.00000e+00 0.00000e+00 0.00000e+00\n 0.00000e+00 0.00000e+00 0.00000e+00 4.00000e+00 2.34900e+03 0.00000e+00\n 0.00000e+00 1.40082e+05 7.71010e+04 0.00000e+00 0.00000e+00 0.00000e+00\n 0.00000e+00 0.00000e+00 0.00000e+00 0.00000e+00 1.75000e+02 1.83690e+04\n 0.00000e+00 0.00000e+00 3.00000e+00]\n[[[2.70070e+04 4.91000e+03 0.00000e+00]\n  [0.00000e+00 0.00000e+00 0.00000e+00]\n  [0.00000e+00 0.00000e+00 0.00000e+00]]\n\n [[4.00000e+00 2.34900e+03 0.00000e+00]\n  [0.00000e+00 1.40082e+05 7.71010e+04]\n  [0.00000e+00 0.00000e+00 0.00000e+00]]\n\n [[0.00000e+00 0.00000e+00 0.00000e+00]\n  [0.00000e+00 1.75000e+02 1.83690e+04]\n  [0.00000e+00 0.00000e+00 3.00000e+00]]]\n"
     ]
    }
   ],
   "source": [
    "# add mask as input\n",
    "channels = [0, 1, 2]\n",
    "bins = [3, 3, 3]\n",
    "ranges = [0, 256, 0, 256, 0, 256]\n",
    "bgr_histogram = cv2.calcHist([image], channels, None, bins, ranges)\n",
    "flat = bgr_histogram.flatten() # return\n",
    "print(flat)\n",
    "print(bgr_histogram)\n"
   ]
  },
  {
   "cell_type": "code",
   "execution_count": null,
   "metadata": {},
   "outputs": [],
   "source": []
  }
 ]
}